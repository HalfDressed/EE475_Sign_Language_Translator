{
 "cells": [
  {
   "cell_type": "code",
   "execution_count": 1,
   "metadata": {
    "scrolled": true
   },
   "outputs": [
    {
     "name": "stdout",
     "output_type": "stream",
     "text": [
      "Overwriting audio.py\n"
     ]
    }
   ],
   "source": [
    "%%file audio.py\n",
    "import serial\n",
    "import threading \n",
    "from playsound import playsound\n",
    "\n",
    "arduino = serial.Serial('COM6', 9600, timeout=0.1)\n",
    "\n",
    "while True:\n",
    "    data = arduino.readline()\n",
    "    if data:\n",
    "        line = data.decode('utf-8')\n",
    "        print(line)\n",
    "        if line.startswith('Calibrate glove'):\n",
    "            key = input('')\n",
    "            key_byte = key.encode('utf-8')\n",
    "            print('Recieved key ')\n",
    "            print(key)\n",
    "            arduino.write(key_byte)\n",
    "        if line.startswith('Final result') and line[-3].isupper():\n",
    "            letter = line[-3]\n",
    "            playsound('alphabet/%s.wav' % str(letter))"
   ]
  },
  {
   "cell_type": "code",
   "execution_count": null,
   "metadata": {},
   "outputs": [],
   "source": []
  }
 ],
 "metadata": {
  "kernelspec": {
   "display_name": "Python 3",
   "language": "python",
   "name": "python3"
  },
  "language_info": {
   "codemirror_mode": {
    "name": "ipython",
    "version": 3
   },
   "file_extension": ".py",
   "mimetype": "text/x-python",
   "name": "python",
   "nbconvert_exporter": "python",
   "pygments_lexer": "ipython3",
   "version": "3.7.1"
  }
 },
 "nbformat": 4,
 "nbformat_minor": 2
}
